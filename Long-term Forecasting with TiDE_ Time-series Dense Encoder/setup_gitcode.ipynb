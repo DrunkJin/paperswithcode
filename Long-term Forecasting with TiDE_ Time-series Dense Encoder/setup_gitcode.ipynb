{
 "cells": [
  {
   "cell_type": "markdown",
   "metadata": {},
   "source": [
    "# GPU 설정 테스트\n",
    "```python\n",
    "# 맥북 M1 텐서 플로우 gpu 설정 확인하기\n",
    "# python -m pip install tensorflow-metal\n",
    "# 활성상태 보기에서 python의 gpu 사용률이 롤라감 -> gpu 설정 완료\n",
    "import tensorflow as tf\n",
    "\n",
    "cifar = tf.keras.datasets.cifar100\n",
    "(x_train, y_train), (x_test, y_test) = cifar.load_data()\n",
    "model = tf.keras.applications.ResNet50(\n",
    "    include_top=True,\n",
    "    weights=None,\n",
    "    input_shape=(32, 32, 3),\n",
    "    classes=100,)\n",
    "\n",
    "loss_fn = tf.keras.losses.SparseCategoricalCrossentropy(from_logits=False)\n",
    "model.compile(optimizer=\"adam\", loss=loss_fn, metrics=[\"accuracy\"])\n",
    "model.fit(x_train, y_train, epochs=5, batch_size=64)\n",
    "```\n",
    "\n",
    "```\n",
    "Downloading data from https://www.cs.toronto.edu/~kriz/cifar-100-python.tar.gz\n",
    "169001437/169001437 [==============================] - 168s 1us/step\n",
    "2023-08-01 17:26:41.199624: I metal_plugin/src/device/metal_device.cc:1154] Metal device set to: Apple M1\n",
    "2023-08-01 17:26:41.199643: I metal_plugin/src/device/metal_device.cc:296] systemMemory: 16.00 GB\n",
    "2023-08-01 17:26:41.199651: I metal_plugin/src/device/metal_device.cc:313] maxCacheSize: 5.33 GB\n",
    "2023-08-01 17:26:41.199707: I tensorflow/core/common_runtime/pluggable_device/pluggable_device_factory.cc:303] Could not identify NUMA node of platform GPU ID 0, defaulting to 0. Your kernel may not have been built with NUMA support.\n",
    "2023-08-01 17:26:41.199738: I tensorflow/core/common_runtime/pluggable_device/pluggable_device_factory.cc:269] Created TensorFlow device (/job:localhost/replica:0/task:0/device:GPU:0 with 0 MB memory) -> physical PluggableDevice (device: 0, name: METAL, pci bus id: <undefined>)\n",
    "Epoch 1/5\n",
    "2023-08-01 17:26:44.338714: I tensorflow/core/grappler/optimizers/custom_graph_optimizer_registry.cc:114] Plugin optimizer for device_type GPU is enabled.\n",
    "782/782 [==============================] - 133s 159ms/step - loss: 4.7072 - accuracy: 0.0786\n",
    "Epoch 2/5\n",
    "782/782 [==============================] - 128s 163ms/step - loss: 4.2086 - accuracy: 0.1192\n",
    "Epoch 3/5\n",
    "782/782 [==============================] - 136s 174ms/step - loss: 3.8756 - accuracy: 0.1604\n",
    "Epoch 4/5\n",
    "782/782 [==============================] - 142s 181ms/step - loss: 3.5795 - accuracy: 0.1990\n",
    "Epoch 5/5\n",
    "782/782 [==============================] - 139s 178ms/step - loss: 3.2917 - accuracy: 0.2343\n",
    "<keras.src.callbacks.History at 0x29aa61ab0>\n",
    "```"
   ]
  },
  {
   "cell_type": "markdown",
   "metadata": {},
   "source": [
    "# google-research TiDE 레포지토리 복제"
   ]
  },
  {
   "cell_type": "code",
   "execution_count": 1,
   "metadata": {},
   "outputs": [],
   "source": [
    "# !git clone https://github.com/google-research/google-research.git"
   ]
  },
  {
   "cell_type": "code",
   "execution_count": 2,
   "metadata": {},
   "outputs": [],
   "source": [
    "import os\n",
    "os.chdir('./tide/datasets')"
   ]
  },
  {
   "cell_type": "code",
   "execution_count": 3,
   "metadata": {},
   "outputs": [
    {
     "name": "stdout",
     "output_type": "stream",
     "text": [
      "total 32\n",
      "drwxr-xr-x@ 11 seojin  staff   352 Aug  1 22:45 \u001b[34m.\u001b[m\u001b[m/\n",
      "drwxr-xr-x@ 13 seojin  staff   416 Aug  1 22:47 \u001b[34m..\u001b[m\u001b[m/\n",
      "-rw-r--r--@  1 seojin  staff  8196 Aug  1 22:45 .DS_Store\n",
      "drwxr-xr-x@  6 seojin  staff   192 Oct 27  2021 \u001b[34mETT-small\u001b[m\u001b[m/\n",
      "drwxr-xr-x@  3 seojin  staff    96 Aug  1 22:43 \u001b[34m__MACOSX\u001b[m\u001b[m/\n",
      "-rw-r--r--@  1 seojin  staff   797 Aug  1 22:34 download_data.sh\n",
      "drwxr-xr-x@  4 seojin  staff   128 Oct 28  2021 \u001b[34melectricity\u001b[m\u001b[m/\n",
      "drwxr-xr-x@  4 seojin  staff   128 Oct 27  2021 \u001b[34mexchange_rate\u001b[m\u001b[m/\n",
      "drwxr-xr-x@  3 seojin  staff    96 Oct 27  2021 \u001b[34millness\u001b[m\u001b[m/\n",
      "drwxr-xr-x@  4 seojin  staff   128 Oct 27  2021 \u001b[34mtraffic\u001b[m\u001b[m/\n",
      "drwxr-xr-x@  3 seojin  staff    96 Oct 27  2021 \u001b[34mweather\u001b[m\u001b[m/\n"
     ]
    }
   ],
   "source": [
    "%ls -al"
   ]
  },
  {
   "cell_type": "code",
   "execution_count": 4,
   "metadata": {},
   "outputs": [
    {
     "name": "stdout",
     "output_type": "stream",
     "text": [
      "Downloading...\n",
      "From (uriginal): https://drive.google.com/uc?id=1alE33S1GmP5wACMXaLu50rDIoVzBM4ik\n",
      "From (redirected): https://drive.google.com/uc?id=1alE33S1GmP5wACMXaLu50rDIoVzBM4ik&confirm=t&uuid=4de0d68f-eff9-422d-890d-d3e6d57cdd47\n",
      "To: /Users/seojin/Desktop/Coding/paperswithcode/Long-term Forecasting with TiDE: Time-series Dense Encoder/tide/datasets/all_six_datasets.zip\n",
      "100%|██████████████████████████████████████| 54.0M/54.0M [00:02<00:00, 24.8MB/s]\n",
      "Archive:  all_six_datasets.zip\n",
      "   creating: all_six_datasets/\n",
      "   creating: all_six_datasets/traffic/\n",
      "replace __MACOSX/all_six_datasets/._traffic? [y]es, [n]o, [A]ll, [N]one, [r]ename: ^C\n",
      "mv: rename all_six_datasets/traffic to ./traffic: Directory not empty\n",
      "mkdir: ../results: File exists\n"
     ]
    }
   ],
   "source": [
    "!bash download_data.sh"
   ]
  },
  {
   "cell_type": "code",
   "execution_count": 8,
   "metadata": {},
   "outputs": [
    {
     "name": "stdout",
     "output_type": "stream",
     "text": [
      "Traceback (most recent call last):\n",
      "  File \"/Users/seojin/anaconda3/envs/paper/lib/python3.10/runpy.py\", line 196, in _run_module_as_main\n",
      "    return _run_code(code, main_globals, None,\n",
      "  File \"/Users/seojin/anaconda3/envs/paper/lib/python3.10/runpy.py\", line 86, in _run_code\n",
      "    exec(code, run_globals)\n",
      "  File \"/Users/seojin/Desktop/Coding/paperswithcode/Long-term Forecasting with TiDE: Time-series Dense Encoder/tide/train.py\", line 27, in <module>\n",
      "    import data_loader\n",
      "  File \"/Users/seojin/Desktop/Coding/paperswithcode/Long-term Forecasting with TiDE: Time-series Dense Encoder/tide/data_loader.py\", line 24, in <module>\n",
      "    import pandas as pd\n",
      "ModuleNotFoundError: No module named 'pandas'\n",
      "Traceback (most recent call last):\n",
      "  File \"/Users/seojin/anaconda3/envs/paper/lib/python3.10/runpy.py\", line 196, in _run_module_as_main\n",
      "    return _run_code(code, main_globals, None,\n",
      "  File \"/Users/seojin/anaconda3/envs/paper/lib/python3.10/runpy.py\", line 86, in _run_code\n",
      "    exec(code, run_globals)\n",
      "  File \"/Users/seojin/Desktop/Coding/paperswithcode/Long-term Forecasting with TiDE: Time-series Dense Encoder/tide/train.py\", line 27, in <module>\n",
      "    import data_loader\n",
      "  File \"/Users/seojin/Desktop/Coding/paperswithcode/Long-term Forecasting with TiDE: Time-series Dense Encoder/tide/data_loader.py\", line 24, in <module>\n",
      "    import pandas as pd\n",
      "ModuleNotFoundError: No module named 'pandas'\n",
      "Traceback (most recent call last):\n",
      "  File \"/Users/seojin/anaconda3/envs/paper/lib/python3.10/runpy.py\", line 196, in _run_module_as_main\n",
      "    return _run_code(code, main_globals, None,\n",
      "  File \"/Users/seojin/anaconda3/envs/paper/lib/python3.10/runpy.py\", line 86, in _run_code\n",
      "    exec(code, run_globals)\n",
      "  File \"/Users/seojin/Desktop/Coding/paperswithcode/Long-term Forecasting with TiDE: Time-series Dense Encoder/tide/train.py\", line 27, in <module>\n",
      "    import data_loader\n",
      "  File \"/Users/seojin/Desktop/Coding/paperswithcode/Long-term Forecasting with TiDE: Time-series Dense Encoder/tide/data_loader.py\", line 24, in <module>\n",
      "    import pandas as pd\n",
      "ModuleNotFoundError: No module named 'pandas'\n",
      "Traceback (most recent call last):\n",
      "  File \"/Users/seojin/anaconda3/envs/paper/lib/python3.10/runpy.py\", line 196, in _run_module_as_main\n",
      "    return _run_code(code, main_globals, None,\n",
      "  File \"/Users/seojin/anaconda3/envs/paper/lib/python3.10/runpy.py\", line 86, in _run_code\n",
      "    exec(code, run_globals)\n",
      "  File \"/Users/seojin/Desktop/Coding/paperswithcode/Long-term Forecasting with TiDE: Time-series Dense Encoder/tide/train.py\", line 27, in <module>\n",
      "    import data_loader\n",
      "  File \"/Users/seojin/Desktop/Coding/paperswithcode/Long-term Forecasting with TiDE: Time-series Dense Encoder/tide/data_loader.py\", line 24, in <module>\n",
      "    import pandas as pd\n",
      "ModuleNotFoundError: No module named 'pandas'\n"
     ]
    }
   ],
   "source": [
    "os.chdir(\"/Users/seojin/Desktop/Coding/paperswithcode/Long-term Forecasting with TiDE: Time-series Dense Encoder/tide\")\n",
    "!bash scripts/electricity.sh"
   ]
  },
  {
   "cell_type": "code",
   "execution_count": null,
   "metadata": {},
   "outputs": [],
   "source": []
  }
 ],
 "metadata": {
  "kernelspec": {
   "display_name": "Python 3.10.12 ('paper')",
   "language": "python",
   "name": "python3"
  },
  "language_info": {
   "codemirror_mode": {
    "name": "ipython",
    "version": 3
   },
   "file_extension": ".py",
   "mimetype": "text/x-python",
   "name": "python",
   "nbconvert_exporter": "python",
   "pygments_lexer": "ipython3",
   "version": "3.10.12"
  },
  "orig_nbformat": 4,
  "vscode": {
   "interpreter": {
    "hash": "30e8d6e8fb05ce9d35e0b01cc293cfd8a9ac59e9557200ebdbea5b581a221950"
   }
  }
 },
 "nbformat": 4,
 "nbformat_minor": 2
}
